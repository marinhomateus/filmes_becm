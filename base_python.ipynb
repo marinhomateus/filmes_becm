{
  "nbformat": 4,
  "nbformat_minor": 0,
  "metadata": {
    "colab": {
      "name": "base-python.ipynb",
      "provenance": []
    },
    "kernelspec": {
      "name": "python3",
      "display_name": "Python 3"
    }
  },
  "cells": [
    {
      "cell_type": "code",
      "metadata": {
        "colab": {
          "base_uri": "https://localhost:8080/",
          "height": 312
        },
        "id": "urkSusFfSt5g",
        "outputId": "905f6a55-8173-49ba-cb32-9111d369ee9b"
      },
      "source": [
        "import numpy as np\n",
        "import pandas as pd\n",
        "import matplotlib.pyplot as plt\n",
        "import seaborn as sns\n",
        "import scipy.stats as sp\n",
        "\n",
        "samples = []\n",
        "\n",
        "roobits = [1.4, 1.6, 1.6, 1.8]\n",
        "humans = [1.8, 1.8, 2]\n",
        "elfos = [1.8, 2, 2]\n",
        "orks = [2, 2.2, 2.2, 2.4]\n",
        "\n",
        "samples.extend(roobits)\n",
        "samples.extend(humans)\n",
        "samples.extend(elfos)\n",
        "samples.extend(orks)\n",
        "\n",
        "mp.hist(samples, bins=len(set(samples)))\n",
        "mp.xlabel('Alturas')\n",
        "mp.ylabel('Frequencia')\n",
        "mp.title('Grafico de densidade')\n"
      ],
      "execution_count": null,
      "outputs": [
        {
          "output_type": "execute_result",
          "data": {
            "text/plain": [
              "Text(0.5, 1.0, 'Grafico de densidade')"
            ]
          },
          "metadata": {
            "tags": []
          },
          "execution_count": 8
        },
        {
          "output_type": "display_data",
          "data": {
            "image/png": "[encoded data removed]",
            "text/plain": [
              "<Figure size 432x288 with 1 Axes>"
            ]
          },
          "metadata": {
            "tags": [],
            "needs_background": "light"
          }
        }
      ]
    },
    {
      "cell_type": "code",
      "metadata": {
        "colab": {
          "base_uri": "https://localhost:8080/",
          "height": 312
        },
        "id": "xWi3f3RqOd1O",
        "outputId": "2394eeae-ff0b-46a6-adb5-4be2c6c65439"
      },
      "source": [
        "parameter = sorted(list(set(samples)))\n",
        "results = sp.cumfreq(samples, numbins=len(parameter), defaultreallimits=(min(samples), max(samples)))\n",
        "\n",
        "mp.plot(parameter, results.cumcount/len(samples), c='blue')\n",
        "mp.xlabel('Alturas')\n",
        "mp.ylabel('Densidade')\n",
        "mp.title('Grafico de distribuicao')\n"
      ],
      "execution_count": null,
      "outputs": [
        {
          "output_type": "execute_result",
          "data": {
            "text/plain": [
              "Text(0.5, 1.0, 'Grafico de distribuicao')"
            ]
          },
          "metadata": {
            "tags": []
          },
          "execution_count": 11
        },
        {
          "output_type": "display_data",
          "data": {
            "image/png": "[encoded data removed]",
            "text/plain": [
              "<Figure size 432x288 with 1 Axes>"
            ]
          },
          "metadata": {
            "tags": [],
            "needs_background": "light"
          }
        }
      ]
    },
    {
      "cell_type": "code",
      "metadata": {
        "colab": {
          "base_uri": "https://localhost:8080/"
        },
        "id": "40LN49yEUM9W",
        "outputId": "33be4986-de61-41a1-bf10-de673f857b1f"
      },
      "source": [
        "mean = round(np.mean(samples), 1)\n",
        "\n",
        "median = np.median(samples)\n",
        "\n",
        "mode = sp.mode(samples).mode[0]\n",
        "\n",
        "error = round(np.std(samples), 1)\n",
        "\n",
        "print(mean, median, mode, error)\n",
        "\n",
        "print(samples)\n"
      ],
      "execution_count": null,
      "outputs": [
        {
          "output_type": "stream",
          "text": [
            "1.9 1.9 1.8 0.3\n",
            "[1.4, 1.6, 1.6, 1.8, 1.8, 1.8, 2, 1.8, 2, 2, 2, 2.2, 2.2, 2.4]\n"
          ],
          "name": "stdout"
        }
      ]
    },
    {
      "cell_type": "code",
      "metadata": {
        "colab": {
          "base_uri": "https://localhost:8080/"
        },
        "id": "_FyxNmWyVCP4",
        "outputId": "2355d46d-04d5-4f58-aca6-242fbfdbc8fc"
      },
      "source": [
        "from scipy.stats import shapiro\n",
        "\n",
        "orks = [2, 2.2, 2.2, 2.4]\n",
        "\n",
        "stat, p = shapiro(orks)\n",
        "\n",
        "print('stat=%.3f, p=%.3f' % (stat, p))\n",
        "\n",
        "if p > 0.05:\n",
        "\tprint('Nao rejeita normalidade')\n",
        "else:\n",
        "\tprint('Rejeita normalidade')\n"
      ],
      "execution_count": null,
      "outputs": [
        {
          "output_type": "stream",
          "text": [
            "stat=0.945, p=0.683\n",
            "Nao rejeita normalidade\n"
          ],
          "name": "stdout"
        }
      ]
    },
    {
      "cell_type": "code",
      "metadata": {
        "colab": {
          "base_uri": "https://localhost:8080/"
        },
        "id": "TikYVAldVNIp",
        "outputId": "6fc11721-99d0-4f9b-a8a9-fed1475008bd"
      },
      "source": [
        "from scipy.stats import ttest_ind\n",
        "\n",
        "robits = [1.4, 1.6, 1.6, 1.8]\n",
        "\n",
        "orks = [2, 2.2, 2.2, 2.4]\n",
        "\n",
        "stat, p = ttest_ind(robits, orks)\n",
        "\n",
        "print('stat=%.3f, p=%.3f' % (stat, p))\n",
        "\n",
        "if p > 0.05:\n",
        "\tprint('Nao rejeita igualdade entre medias')\n",
        "else:\n",
        "\tprint('Rejeita igualdade entre medias')\n"
      ],
      "execution_count": null,
      "outputs": [
        {
          "output_type": "stream",
          "text": [
            "stat=-5.196, p=0.002\n",
            "Rejeita igualdade entre medias\n"
          ],
          "name": "stdout"
        }
      ]
    },
    {
      "cell_type": "code",
      "metadata": {
        "colab": {
          "base_uri": "https://localhost:8080/",
          "height": 281
        },
        "id": "0F6F-iMCVbEm",
        "outputId": "86a579c2-584f-46ae-99fa-615dcadb47a2"
      },
      "source": [
        "N = 5\n",
        "ind = np.arange(N)\n",
        "width = 0.35\n",
        "\n",
        "menMeans = [20, 35, 30, 35, 27]\n",
        "womenMeans = [25, 32, 34, 20, 25]\n",
        "kidMeans = [15, 13, 14, 12, 15]\n",
        "menStd = [2, 3, 4, 1, 2]\n",
        "womenStd = [3, 5, 2, 3, 3]\n",
        "kidStd = [2, 1, 2, 4, 3]\n",
        "\n",
        "p1 = plt.bar(ind, menMeans, width, yerr=menStd, color='b')\n",
        "p2 = plt.bar(ind, womenMeans, width, bottom=menMeans, yerr=womenStd, color='r')\n",
        "p3 = plt.bar(ind, kidMeans, width, bottom=np.array(menMeans)+np.array(womenMeans), yerr=kidStd, color='g')\n",
        "\n",
        "plt.ylabel('Scores')\n",
        "plt.title('Scores by group and gender')\n",
        "plt.xticks(ind, ('G1', 'G2', 'G3', 'G4', 'G5'))\n",
        "plt.yticks(np.arange(0, 81, 10))\n",
        "plt.legend((p1[0], p2[0], p3[0]), ('Men', 'Women', 'kids'))\n",
        "plt.show()"
      ],
      "execution_count": null,
      "outputs": [
        {
          "output_type": "display_data",
          "data": {
            "image/png": "[encoded data removed]",
            "text/plain": [
              "<Figure size 432x288 with 1 Axes>"
            ]
          },
          "metadata": {
            "tags": [],
            "needs_background": "light"
          }
        }
      ]
    },
    {
      "cell_type": "code",
      "metadata": {
        "colab": {
          "base_uri": "https://localhost:8080/",
          "height": 281
        },
        "id": "Yf3oOO5aVs8N",
        "outputId": "13349289-8ac8-4426-dbd7-3674dba5d73b"
      },
      "source": [
        "p1 = plt.bar(ind - 0.25, menMeans, width, yerr=menStd, color = 'b')\n",
        "p2 = plt.bar(ind + 0.00, womenMeans, width, yerr=womenStd, color = 'r')\n",
        "p3 = plt.bar(ind + 0.25, kidMeans, width, yerr=kidStd, color = 'g')\n",
        "\n",
        "plt.ylabel('Scores')\n",
        "plt.title('Scores by group and gender')\n",
        "plt.xticks(ind, ('G1', 'G2', 'G3', 'G4', 'G5'))\n",
        "plt.yticks(np.arange(0, 41, 5))\n",
        "plt.legend((p1[0], p2[0], p3[0]), ('Men', 'Women', 'kids'))\n",
        "\n",
        "plt.show()\n"
      ],
      "execution_count": null,
      "outputs": [
        {
          "output_type": "display_data",
          "data": {
            "image/png": "[encoded data removed]",
            "text/plain": [
              "<Figure size 432x288 with 1 Axes>"
            ]
          },
          "metadata": {
            "tags": [],
            "needs_background": "light"
          }
        }
      ]
    },
    {
      "cell_type": "code",
      "metadata": {
        "id": "fJ7OEhDnV1jn",
        "colab": {
          "base_uri": "https://localhost:8080/",
          "height": 265
        },
        "outputId": "a3cfe2fc-a7d7-4a30-883f-a80b8232a021"
      },
      "source": [
        "means = [20, 35, 30, 35, 27]\n",
        "labels = ['A', 'B', 'C', 'D', 'E']\n",
        "\n",
        "plt.bar(labels, means)\n",
        "\n",
        "plt.show()\n"
      ],
      "execution_count": null,
      "outputs": [
        {
          "output_type": "display_data",
          "data": {
            "image/png": "[encoded data removed]",
            "text/plain": [
              "<Figure size 432x288 with 1 Axes>"
            ]
          },
          "metadata": {
            "tags": [],
            "needs_background": "light"
          }
        }
      ]
    },
    {
      "cell_type": "markdown",
      "metadata": {
        "id": "QSEVRdBKV4lV"
      },
      "source": [
        ""
      ]
    }
  ]
}